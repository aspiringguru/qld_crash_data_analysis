{
 "cells": [
  {
   "cell_type": "code",
   "execution_count": 1,
   "metadata": {},
   "outputs": [],
   "source": [
    "import pandas as pd\n",
    "import seaborn as sns\n",
    "import matplotlib.pyplot as plt\n",
    "import numpy as np\n",
    "import os"
   ]
  },
  {
   "cell_type": "code",
   "execution_count": 2,
   "metadata": {},
   "outputs": [],
   "source": [
    "DATADIR = './data/'"
   ]
  },
  {
   "cell_type": "code",
   "execution_count": 3,
   "metadata": {},
   "outputs": [
    {
     "name": "stdout",
     "output_type": "stream",
     "text": [
      "data.shape: (3277, 13)\n",
      "['Crash_Year', 'Crash_Police_Region', 'Crash_Severity', 'Involving_Drink_Driving', 'Involving_Driver_Speed', 'Involving_Fatigued_Driver', 'Involving_Defective_Vehicle', 'Count_Crashes', 'Count_Fatality', 'Count_Hospitalised', 'Count_Medically_Treated', 'Count_Minor_Injury', 'Count_All_Casualties']\n"
     ]
    }
   ],
   "source": [
    "\n",
    "data = pd.read_csv(DATADIR + 'factorsinroadcrashes.csv')\n",
    "print(\"data.shape:\", data.shape)\n",
    "print(list(data))"
   ]
  },
  {
   "cell_type": "code",
   "execution_count": 4,
   "metadata": {},
   "outputs": [
    {
     "name": "stdout",
     "output_type": "stream",
     "text": [
      "Crash_Year\n",
      "Crash_Police_Region\n",
      "Crash_Severity\n",
      "Involving_Drink_Driving\n",
      "Involving_Driver_Speed\n",
      "Involving_Fatigued_Driver\n",
      "Involving_Defective_Vehicle\n",
      "Count_Crashes\n",
      "Count_Fatality\n",
      "Count_Hospitalised\n",
      "Count_Medically_Treated\n",
      "Count_Minor_Injury\n",
      "Count_All_Casualties\n"
     ]
    }
   ],
   "source": [
    "for colname in list(data):\n",
    "    print(colname)"
   ]
  },
  {
   "cell_type": "code",
   "execution_count": 14,
   "metadata": {},
   "outputs": [
    {
     "data": {
      "text/plain": [
       "['Crash_Police_Region',\n",
       " 'Crash_Severity',\n",
       " 'Involving_Drink_Driving',\n",
       " 'Involving_Driver_Speed',\n",
       " 'Involving_Fatigued_Driver',\n",
       " 'Involving_Defective_Vehicle',\n",
       " 'Crash_Year']"
      ]
     },
     "execution_count": 14,
     "metadata": {},
     "output_type": "execute_result"
    }
   ],
   "source": [
    "non_numeric_cols = list(data.select_dtypes(exclude=['int', 'float']).columns)\n",
    "non_numeric_cols.append('Crash_Year')\n",
    "non_numeric_cols"
   ]
  },
  {
   "cell_type": "code",
   "execution_count": 15,
   "metadata": {},
   "outputs": [
    {
     "data": {
      "text/html": [
       "<div>\n",
       "<style scoped>\n",
       "    .dataframe tbody tr th:only-of-type {\n",
       "        vertical-align: middle;\n",
       "    }\n",
       "\n",
       "    .dataframe tbody tr th {\n",
       "        vertical-align: top;\n",
       "    }\n",
       "\n",
       "    .dataframe thead th {\n",
       "        text-align: right;\n",
       "    }\n",
       "</style>\n",
       "<table border=\"1\" class=\"dataframe\">\n",
       "  <thead>\n",
       "    <tr style=\"text-align: right;\">\n",
       "      <th></th>\n",
       "      <th>Crash_Police_Region</th>\n",
       "      <th>Crash_Severity</th>\n",
       "      <th>Involving_Drink_Driving</th>\n",
       "      <th>Involving_Driver_Speed</th>\n",
       "      <th>Involving_Fatigued_Driver</th>\n",
       "      <th>Involving_Defective_Vehicle</th>\n",
       "      <th>Crash_Year</th>\n",
       "    </tr>\n",
       "  </thead>\n",
       "  <tbody>\n",
       "    <tr>\n",
       "      <th>0</th>\n",
       "      <td>Brisbane</td>\n",
       "      <td>Fatal</td>\n",
       "      <td>No</td>\n",
       "      <td>No</td>\n",
       "      <td>No</td>\n",
       "      <td>No</td>\n",
       "      <td>2001</td>\n",
       "    </tr>\n",
       "    <tr>\n",
       "      <th>1</th>\n",
       "      <td>Brisbane</td>\n",
       "      <td>Fatal</td>\n",
       "      <td>No</td>\n",
       "      <td>No</td>\n",
       "      <td>No</td>\n",
       "      <td>Yes</td>\n",
       "      <td>2001</td>\n",
       "    </tr>\n",
       "    <tr>\n",
       "      <th>2</th>\n",
       "      <td>Brisbane</td>\n",
       "      <td>Fatal</td>\n",
       "      <td>No</td>\n",
       "      <td>Yes</td>\n",
       "      <td>No</td>\n",
       "      <td>No</td>\n",
       "      <td>2001</td>\n",
       "    </tr>\n",
       "    <tr>\n",
       "      <th>3</th>\n",
       "      <td>Brisbane</td>\n",
       "      <td>Fatal</td>\n",
       "      <td>Yes</td>\n",
       "      <td>No</td>\n",
       "      <td>No</td>\n",
       "      <td>No</td>\n",
       "      <td>2001</td>\n",
       "    </tr>\n",
       "    <tr>\n",
       "      <th>4</th>\n",
       "      <td>Brisbane</td>\n",
       "      <td>Fatal</td>\n",
       "      <td>Yes</td>\n",
       "      <td>No</td>\n",
       "      <td>No</td>\n",
       "      <td>Yes</td>\n",
       "      <td>2001</td>\n",
       "    </tr>\n",
       "  </tbody>\n",
       "</table>\n",
       "</div>"
      ],
      "text/plain": [
       "  Crash_Police_Region Crash_Severity Involving_Drink_Driving  \\\n",
       "0            Brisbane          Fatal                      No   \n",
       "1            Brisbane          Fatal                      No   \n",
       "2            Brisbane          Fatal                      No   \n",
       "3            Brisbane          Fatal                     Yes   \n",
       "4            Brisbane          Fatal                     Yes   \n",
       "\n",
       "  Involving_Driver_Speed Involving_Fatigued_Driver  \\\n",
       "0                     No                        No   \n",
       "1                     No                        No   \n",
       "2                    Yes                        No   \n",
       "3                     No                        No   \n",
       "4                     No                        No   \n",
       "\n",
       "  Involving_Defective_Vehicle  Crash_Year  \n",
       "0                          No        2001  \n",
       "1                         Yes        2001  \n",
       "2                          No        2001  \n",
       "3                          No        2001  \n",
       "4                         Yes        2001  "
      ]
     },
     "execution_count": 15,
     "metadata": {},
     "output_type": "execute_result"
    }
   ],
   "source": [
    "data[non_numeric_cols].head()\n"
   ]
  },
  {
   "cell_type": "code",
   "execution_count": 63,
   "metadata": {
    "scrolled": true
   },
   "outputs": [
    {
     "name": "stdout",
     "output_type": "stream",
     "text": [
      "['Brisbane', 'Central', 'Northern', 'South Eastern', 'Southern', 'Unknown']\n",
      "['Fatal', 'Hospitalisation', 'Medical treatment', 'Minor injury', 'Property damage only']\n",
      "['No', 'Yes']\n",
      "['No', 'Yes']\n",
      "['No', 'Yes']\n",
      "['No', 'Yes']\n",
      "[2001, 2002, 2003, 2004, 2005, 2006, 2007, 2008, 2009, 2010, 2011, 2012, 2013, 2014, 2015, 2016, 2017, 2018]\n"
     ]
    }
   ],
   "source": [
    "print(list(data['Crash_Police_Region'].unique()))\n",
    "print(list(data['Crash_Severity'].unique()))\n",
    "print(list(data['Involving_Drink_Driving'].unique()))\n",
    "print(list(data['Involving_Driver_Speed'].unique()))\n",
    "print(list(data['Involving_Fatigued_Driver'].unique()))\n",
    "print(list(data['Involving_Defective_Vehicle'].unique()))\n",
    "print(list(data['Crash_Year'].unique()))"
   ]
  },
  {
   "cell_type": "code",
   "execution_count": 70,
   "metadata": {},
   "outputs": [
    {
     "name": "stdout",
     "output_type": "stream",
     "text": [
      "(3277, 9)\n"
     ]
    },
    {
     "data": {
      "text/html": [
       "<div>\n",
       "<style scoped>\n",
       "    .dataframe tbody tr th:only-of-type {\n",
       "        vertical-align: middle;\n",
       "    }\n",
       "\n",
       "    .dataframe tbody tr th {\n",
       "        vertical-align: top;\n",
       "    }\n",
       "\n",
       "    .dataframe thead th {\n",
       "        text-align: right;\n",
       "    }\n",
       "</style>\n",
       "<table border=\"1\" class=\"dataframe\">\n",
       "  <thead>\n",
       "    <tr style=\"text-align: right;\">\n",
       "      <th></th>\n",
       "      <th>Crash_Police_Region</th>\n",
       "      <th>Crash_Severity</th>\n",
       "      <th>Involving_Drink_Driving</th>\n",
       "      <th>Involving_Driver_Speed</th>\n",
       "      <th>Involving_Fatigued_Driver</th>\n",
       "      <th>Involving_Defective_Vehicle</th>\n",
       "      <th>Crash_Year</th>\n",
       "      <th>Count_Crashes</th>\n",
       "      <th>Count_Crashes</th>\n",
       "    </tr>\n",
       "  </thead>\n",
       "  <tbody>\n",
       "    <tr>\n",
       "      <th>0</th>\n",
       "      <td>Brisbane</td>\n",
       "      <td>Fatal</td>\n",
       "      <td>No</td>\n",
       "      <td>No</td>\n",
       "      <td>No</td>\n",
       "      <td>No</td>\n",
       "      <td>2001</td>\n",
       "      <td>31</td>\n",
       "      <td>31</td>\n",
       "    </tr>\n",
       "    <tr>\n",
       "      <th>1</th>\n",
       "      <td>Brisbane</td>\n",
       "      <td>Fatal</td>\n",
       "      <td>No</td>\n",
       "      <td>No</td>\n",
       "      <td>No</td>\n",
       "      <td>Yes</td>\n",
       "      <td>2001</td>\n",
       "      <td>1</td>\n",
       "      <td>1</td>\n",
       "    </tr>\n",
       "    <tr>\n",
       "      <th>2</th>\n",
       "      <td>Brisbane</td>\n",
       "      <td>Fatal</td>\n",
       "      <td>No</td>\n",
       "      <td>Yes</td>\n",
       "      <td>No</td>\n",
       "      <td>No</td>\n",
       "      <td>2001</td>\n",
       "      <td>8</td>\n",
       "      <td>8</td>\n",
       "    </tr>\n",
       "    <tr>\n",
       "      <th>3</th>\n",
       "      <td>Brisbane</td>\n",
       "      <td>Fatal</td>\n",
       "      <td>Yes</td>\n",
       "      <td>No</td>\n",
       "      <td>No</td>\n",
       "      <td>No</td>\n",
       "      <td>2001</td>\n",
       "      <td>2</td>\n",
       "      <td>2</td>\n",
       "    </tr>\n",
       "    <tr>\n",
       "      <th>4</th>\n",
       "      <td>Brisbane</td>\n",
       "      <td>Fatal</td>\n",
       "      <td>Yes</td>\n",
       "      <td>No</td>\n",
       "      <td>No</td>\n",
       "      <td>Yes</td>\n",
       "      <td>2001</td>\n",
       "      <td>1</td>\n",
       "      <td>1</td>\n",
       "    </tr>\n",
       "  </tbody>\n",
       "</table>\n",
       "</div>"
      ],
      "text/plain": [
       "  Crash_Police_Region Crash_Severity Involving_Drink_Driving  \\\n",
       "0            Brisbane          Fatal                      No   \n",
       "1            Brisbane          Fatal                      No   \n",
       "2            Brisbane          Fatal                      No   \n",
       "3            Brisbane          Fatal                     Yes   \n",
       "4            Brisbane          Fatal                     Yes   \n",
       "\n",
       "  Involving_Driver_Speed Involving_Fatigued_Driver  \\\n",
       "0                     No                        No   \n",
       "1                     No                        No   \n",
       "2                    Yes                        No   \n",
       "3                     No                        No   \n",
       "4                     No                        No   \n",
       "\n",
       "  Involving_Defective_Vehicle  Crash_Year  Count_Crashes  Count_Crashes  \n",
       "0                          No        2001             31             31  \n",
       "1                         Yes        2001              1              1  \n",
       "2                          No        2001              8              8  \n",
       "3                          No        2001              2              2  \n",
       "4                         Yes        2001              1              1  "
      ]
     },
     "execution_count": 70,
     "metadata": {},
     "output_type": "execute_result"
    }
   ],
   "source": [
    "temp_cols = non_numeric_cols\n",
    "temp_cols.append('Count_Crashes')\n",
    "temp = data[temp_cols]\n",
    "print(temp.shape)\n",
    "temp.head()\n"
   ]
  },
  {
   "cell_type": "code",
   "execution_count": 71,
   "metadata": {},
   "outputs": [
    {
     "name": "stdout",
     "output_type": "stream",
     "text": [
      "(101, 3)\n"
     ]
    }
   ],
   "source": [
    "plot_this = temp[['Crash_Police_Region', 'Crash_Year', 'Count_Crashes']].groupby(['Crash_Police_Region', 'Crash_Year']).size().to_frame('Count_Crashes').reset_index()\n",
    "print(plot_this.shape)\n"
   ]
  },
  {
   "cell_type": "code",
   "execution_count": 72,
   "metadata": {},
   "outputs": [
    {
     "name": "stdout",
     "output_type": "stream",
     "text": [
      "(18, 7)\n"
     ]
    },
    {
     "data": {
      "text/html": [
       "<div>\n",
       "<style scoped>\n",
       "    .dataframe tbody tr th:only-of-type {\n",
       "        vertical-align: middle;\n",
       "    }\n",
       "\n",
       "    .dataframe tbody tr th {\n",
       "        vertical-align: top;\n",
       "    }\n",
       "\n",
       "    .dataframe thead th {\n",
       "        text-align: right;\n",
       "    }\n",
       "</style>\n",
       "<table border=\"1\" class=\"dataframe\">\n",
       "  <thead>\n",
       "    <tr style=\"text-align: right;\">\n",
       "      <th>Crash_Police_Region</th>\n",
       "      <th>Crash_Year</th>\n",
       "      <th>Brisbane</th>\n",
       "      <th>Central</th>\n",
       "      <th>Northern</th>\n",
       "      <th>South Eastern</th>\n",
       "      <th>Southern</th>\n",
       "      <th>Unknown</th>\n",
       "    </tr>\n",
       "  </thead>\n",
       "  <tbody>\n",
       "    <tr>\n",
       "      <th>0</th>\n",
       "      <td>2001</td>\n",
       "      <td>44.0</td>\n",
       "      <td>44.0</td>\n",
       "      <td>41.0</td>\n",
       "      <td>39.0</td>\n",
       "      <td>39.0</td>\n",
       "      <td>19.0</td>\n",
       "    </tr>\n",
       "    <tr>\n",
       "      <th>1</th>\n",
       "      <td>2002</td>\n",
       "      <td>40.0</td>\n",
       "      <td>46.0</td>\n",
       "      <td>40.0</td>\n",
       "      <td>38.0</td>\n",
       "      <td>45.0</td>\n",
       "      <td>18.0</td>\n",
       "    </tr>\n",
       "    <tr>\n",
       "      <th>2</th>\n",
       "      <td>2003</td>\n",
       "      <td>38.0</td>\n",
       "      <td>43.0</td>\n",
       "      <td>37.0</td>\n",
       "      <td>39.0</td>\n",
       "      <td>45.0</td>\n",
       "      <td>15.0</td>\n",
       "    </tr>\n",
       "    <tr>\n",
       "      <th>3</th>\n",
       "      <td>2004</td>\n",
       "      <td>36.0</td>\n",
       "      <td>46.0</td>\n",
       "      <td>41.0</td>\n",
       "      <td>38.0</td>\n",
       "      <td>43.0</td>\n",
       "      <td>9.0</td>\n",
       "    </tr>\n",
       "    <tr>\n",
       "      <th>4</th>\n",
       "      <td>2005</td>\n",
       "      <td>38.0</td>\n",
       "      <td>41.0</td>\n",
       "      <td>45.0</td>\n",
       "      <td>38.0</td>\n",
       "      <td>45.0</td>\n",
       "      <td>5.0</td>\n",
       "    </tr>\n",
       "  </tbody>\n",
       "</table>\n",
       "</div>"
      ],
      "text/plain": [
       "Crash_Police_Region  Crash_Year  Brisbane  Central  Northern  South Eastern  \\\n",
       "0                          2001      44.0     44.0      41.0           39.0   \n",
       "1                          2002      40.0     46.0      40.0           38.0   \n",
       "2                          2003      38.0     43.0      37.0           39.0   \n",
       "3                          2004      36.0     46.0      41.0           38.0   \n",
       "4                          2005      38.0     41.0      45.0           38.0   \n",
       "\n",
       "Crash_Police_Region  Southern  Unknown  \n",
       "0                        39.0     19.0  \n",
       "1                        45.0     18.0  \n",
       "2                        45.0     15.0  \n",
       "3                        43.0      9.0  \n",
       "4                        45.0      5.0  "
      ]
     },
     "execution_count": 72,
     "metadata": {},
     "output_type": "execute_result"
    }
   ],
   "source": [
    "result = pd.pivot_table(plot_this, values = 'Count_Crashes', index=['Crash_Year'], columns = 'Crash_Police_Region').reset_index()\n",
    "print(result.shape)\n",
    "result.head(5)\n"
   ]
  },
  {
   "cell_type": "code",
   "execution_count": 73,
   "metadata": {},
   "outputs": [],
   "source": [
    "result.fillna(0, inplace=True)\n"
   ]
  },
  {
   "cell_type": "code",
   "execution_count": 66,
   "metadata": {},
   "outputs": [
    {
     "data": {
      "text/plain": [
       "Text(0, 0.5, '# of Crashes')"
      ]
     },
     "execution_count": 66,
     "metadata": {},
     "output_type": "execute_result"
    },
    {
     "data": {
      "image/png": "[encoded data removed]",
      "text/plain": [
       "<Figure size 1152x576 with 1 Axes>"
      ]
     },
     "metadata": {
      "needs_background": "light"
     },
     "output_type": "display_data"
    }
   ],
   "source": [
    "ax = result.plot(x=\"Crash_Year\", \n",
    "            y=['Brisbane', 'Central', 'Northern', 'South Eastern', 'Southern', 'Unknown'], \n",
    "            kind=\"bar\",\n",
    "            figsize=(16,8), \n",
    "            title = \"Qld Vehicle Crashes 2001 to 2018\")\n",
    "ax.set_ylabel(\"# of Crashes\")"
   ]
  },
  {
   "cell_type": "code",
   "execution_count": 68,
   "metadata": {},
   "outputs": [],
   "source": [
    "def multiBarPlot(df, feature):\n",
    "    '''\n",
    "    produce multi bar plot for feature vs 'Crash_Police_Region', 'Crash_Year'\n",
    "    df : pandas dataframe with only columns required for plotting\n",
    "    feature : name of column to plot. \n",
    "    Assumes\n",
    "    'Crash_Year' = column for years.\n",
    "    'Crash_Police_Region' = column for pivoting.\n",
    "    \n",
    "    '''\n",
    "    plot_this = df[['Crash_Police_Region', 'Crash_Year', feature]].groupby(['Crash_Police_Region', 'Crash_Year']).size().to_frame(feature).reset_index()\n",
    "    print(\"plot_this.shape:\", plot_this.shape)\n",
    "    result = pd.pivot_table(plot_this, values = feature, index=['Crash_Year'], columns = 'Crash_Police_Region').reset_index()\n",
    "    print(\"result.shape:\", result.shape)\n",
    "    result.fillna(0, inplace=True)\n",
    "    result.plot(x=\"Crash_Year\", \n",
    "            y=['Brisbane', 'Central', 'Northern', 'South Eastern', 'Southern', 'Unknown'], \n",
    "            kind=\"bar\",\n",
    "            figsize=(16,8))"
   ]
  },
  {
   "cell_type": "code",
   "execution_count": 69,
   "metadata": {},
   "outputs": [
    {
     "name": "stdout",
     "output_type": "stream",
     "text": [
      "plot_this.shape: (101, 3)\n",
      "result.shape: (18, 7)\n"
     ]
    },
    {
     "data": {
      "image/png": "[encoded data removed]",
      "text/plain": [
       "<Figure size 1152x576 with 1 Axes>"
      ]
     },
     "metadata": {
      "needs_background": "light"
     },
     "output_type": "display_data"
    }
   ],
   "source": [
    "multiBarPlot(temp, 'Count_Crashes')"
   ]
  },
  {
   "cell_type": "code",
   "execution_count": null,
   "metadata": {},
   "outputs": [],
   "source": [
    "#now do a multi bar plot to show 'Crash_Severity' vs years.\n",
    "temp_cols = non_numeric_cols\n",
    "temp_cols.append('Count_Crashes')\n",
    "temp = data[temp_cols]\n",
    "print(temp.shape)\n",
    "temp.head()"
   ]
  },
  {
   "cell_type": "code",
   "execution_count": null,
   "metadata": {},
   "outputs": [],
   "source": []
  }
 ],
 "metadata": {
  "kernelspec": {
   "display_name": "Python 3",
   "language": "python",
   "name": "python3"
  },
  "language_info": {
   "codemirror_mode": {
    "name": "ipython",
    "version": 3
   },
   "file_extension": ".py",
   "mimetype": "text/x-python",
   "name": "python",
   "nbconvert_exporter": "python",
   "pygments_lexer": "ipython3",
   "version": "3.7.3"
  }
 },
 "nbformat": 4,
 "nbformat_minor": 2
}
